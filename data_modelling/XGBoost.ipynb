{
 "cells": [
  {
   "cell_type": "code",
   "execution_count": 1,
   "metadata": {},
   "outputs": [
    {
     "name": "stderr",
     "output_type": "stream",
     "text": [
      "/usr/lib/python3/dist-packages/requests/__init__.py:89: RequestsDependencyWarning: urllib3 (1.26.12) or chardet (3.0.4) doesn't match a supported version!\n",
      "  warnings.warn(\"urllib3 ({}) or chardet ({}) doesn't match a supported \"\n"
     ]
    }
   ],
   "source": [
    "import numpy as np\n",
    "import pandas as pd \n",
    "from sklearn.model_selection import train_test_split\n",
    "from sklearn.linear_model import LinearRegression\n",
    "\n",
    "from sklearn.neighbors import KNeighborsRegressor\n",
    "from sklearn.preprocessing import PolynomialFeatures\n",
    "from sklearn.preprocessing import OneHotEncoder\n",
    "from sklearn.preprocessing import LabelEncoder\n",
    "from sklearn import metrics\n",
    "from sklearn.model_selection import train_test_split\n",
    "\n",
    "from sklearn.model_selection import cross_val_score\n",
    "from sklearn.metrics import r2_score\n",
    "\n",
    "import matplotlib.pyplot as plt\n",
    "import seaborn as sns\n",
    "from mpl_toolkits.mplot3d import Axes3D\n",
    "import folium\n",
    "from folium.plugins import HeatMap\n",
    "%matplotlib inline\n",
    "import warnings\n",
    "warnings.filterwarnings('ignore')\n",
    "\n",
    "import lightgbm as lgb\n",
    "\n",
    "from sklearn.metrics import mean_squared_error\n",
    "\n",
    "from pandas import DataFrame\n",
    "\n",
    "import matplotlib.pyplot as plt\n",
    "\n",
    "# #evaluation = pd.DataFrame({'Model': [],\n",
    "#                            'Details':[],\n",
    "#                            'Root Mean Squared Error (RMSE)':[],\n",
    "#                            'R-squared (training)':[],\n",
    "#                            'Adjusted R-squared (training)':[],\n",
    "#                            'R-squared (test)':[],\n",
    "#                            'Adjusted R-squared (test)':[],\n",
    "#                            '5-Fold Cross Validation':[]})\n",
    "                           \n",
    "all_datadf=pd.read_csv('good_dataset.csv')\n",
    "\n",
    "\n"
   ]
  },
  {
   "cell_type": "code",
   "execution_count": 2,
   "metadata": {},
   "outputs": [],
   "source": [
    "#remove outliers function\n",
    "def remove_outliers(df,columns,n_std):\n",
    "    for col in columns:\n",
    "        #print('Working on column: {}'.format(col))\n",
    "        \n",
    "        mean = df[col].mean()\n",
    "        sd = df[col].std()\n",
    "        \n",
    "        df = df[(df[col] <= mean+(n_std*sd))]\n",
    "    print(str(round(mean,2)) + ', ' +  str(round(sd,2)))\n",
    "    #print(df[col] <= mean+(n_std*sd))    \n",
    "    return df"
   ]
  },
  {
   "cell_type": "code",
   "execution_count": 3,
   "metadata": {},
   "outputs": [],
   "source": [
    "#basic cleaning\n",
    "\n",
    "all_datadf=all_datadf.fillna(0)\n",
    "all_datadf=all_datadf.iloc[:, 2:]\n",
    "all_datadf=all_datadf.drop_duplicates()\n",
    "\n",
    "#price cleaning, drop 0s\n",
    "all_datadf['price']=pd.to_numeric(all_datadf['price'], errors='coerce')\n",
    "all_datadf=all_datadf[all_datadf['price'] > 0]\n",
    "\n",
    "\n",
    "#numbedrooms cleaning\n",
    "all_datadf=all_datadf[all_datadf['numberOfBedrooms'] < 10]\n",
    "all_datadf=all_datadf[all_datadf['surfaceAreaOfPlot'] < 15000]\n",
    "\n",
    "\n"
   ]
  },
  {
   "cell_type": "code",
   "execution_count": 4,
   "metadata": {},
   "outputs": [],
   "source": [
    "#epc, state and property type to continuous\n",
    "#energy type fill na\n",
    "\n",
    "epc_dict={'A++': 9, 'A+': 8, 'A' : 7, 'B_A+': 6,'B': 6, 'C': 5, 'D': 4, 'E': 3, 'F': 2, 'G': 1, 'G_D' : 1, 'G_B' : 1, 'E_D': 2}\n",
    "\n",
    "state_dict={'TO_RESTORE' : 1, 'TO_RENOVATE' : 2, 'GOOD' : 3, 'TO_BE_DONE_UP': '4', 'JUST_RENOVATED' : 5, 'AS_NEW' : 6}\n",
    "\n",
    "property_type_dict={'HOUSE' : 1, 'APARTMENT': 0}\n",
    "\n",
    "energy_type_dict={'0': 'not_specified'}\n",
    "\n",
    "all_datadf=all_datadf.replace(epc_dict)\n",
    "all_datadf=all_datadf.replace(state_dict)\n",
    "all_datadf=all_datadf.replace(property_type_dict)\n",
    "all_datadf['energyHeatingType']=all_datadf['energyHeatingType'].replace(energy_type_dict)\n",
    "\n",
    "all_datadf['epcScore']=pd.to_numeric(all_datadf['epcScore'], errors='coerce')\n",
    "all_datadf['stateOfBuilding']=pd.to_numeric(all_datadf['stateOfBuilding'], errors='coerce')\n"
   ]
  },
  {
   "cell_type": "code",
   "execution_count": 5,
   "metadata": {},
   "outputs": [],
   "source": [
    "#postal codes in blocks til 50\n",
    "\n",
    "all_datadf['postalCode']=all_datadf['postalCode'] // 50 * 50\n",
    "postalCodes=all_datadf['postalCode'].unique()\n",
    "#postalCodesdf=pd.DataFrame(postalCodes, columns=['postalCodes'])\n",
    "all_datadf['postalCode']=all_datadf['postalCode'].astype('string')\n",
    "\n"
   ]
  },
  {
   "cell_type": "code",
   "execution_count": 6,
   "metadata": {},
   "outputs": [],
   "source": [
    "\n",
    "from statistics import median\n",
    "\n",
    "#most interesting dataframe\n",
    "bestdf=all_datadf[['price', 'stateOfBuilding', 'epcScore', 'postalCode', 'province', 'typeOfProperty', 'numberOfBedrooms', 'livableArea', 'surfaceAreaOfPlot']]\n",
    "\n",
    "\n",
    "\n"
   ]
  },
  {
   "cell_type": "code",
   "execution_count": null,
   "metadata": {},
   "outputs": [],
   "source": [
    "outlier_columns=all_datadf[['price', 'livableArea', 'surfaceAreaOfPlot']]\n",
    "\n",
    "bestdf=remove_outliers(bestdf, outlier_columns, 1)\n",
    "\n",
    "bestdf.describe()"
   ]
  },
  {
   "cell_type": "code",
   "execution_count": 7,
   "metadata": {},
   "outputs": [],
   "source": [
    "#group houses and appts to see distribution of data\n",
    "besthousedf=bestdf[bestdf['typeOfProperty'] == 1]\n",
    "bestapptdf=bestdf[bestdf['typeOfProperty'] == 0]\n",
    "descriptionhouse=besthousedf.describe()\n",
    "descriptionappt=bestapptdf.describe()"
   ]
  },
  {
   "cell_type": "code",
   "execution_count": 8,
   "metadata": {},
   "outputs": [],
   "source": [
    "#check 0 count\n",
    "num0s = bestdf.groupby('typeOfProperty').agg(lambda x: x.eq(0).sum())\n",
    "\n",
    "#median and means per house and appt category\n",
    "mediandf=bestdf.groupby('typeOfProperty').agg(lambda x: x.median())\n",
    "meandf=bestdf.groupby('typeOfProperty').agg(lambda x: x.mean())\n",
    "\n",
    "#medians from state and epc\n",
    "medianstatehouse=mediandf.iloc[1][2]\n",
    "medianstateappt=mediandf.iloc[0][2]\n",
    "medianepchouse=mediandf.iloc[1][3]\n",
    "medianepcappt=mediandf.iloc[0][3]\n",
    "\n",
    "\n",
    "\n"
   ]
  },
  {
   "cell_type": "code",
   "execution_count": 9,
   "metadata": {},
   "outputs": [],
   "source": [
    "#fill in state and epcs with medians\n",
    "besthousedf['epcScore']=besthousedf['epcScore'].apply(lambda x: medianepchouse if x == 0 else x)\n",
    "besthousedf['stateOfBuilding']=besthousedf['stateOfBuilding'].apply(lambda x: medianstatehouse if x == 0 else x)\n",
    "\n",
    "\n",
    "bestapptdf['epcScore']=bestapptdf['epcScore'].apply(lambda x: medianepcappt if x == 0 else x)\n",
    "bestapptdf['stateOfBuilding']=bestapptdf['stateOfBuilding'].apply(lambda x: medianstatehouse if x == 0 else x)\n",
    "\n",
    "descriptionhouse=besthousedf.describe()\n",
    "descriptionappt=bestapptdf.describe()\n",
    "\n"
   ]
  },
  {
   "cell_type": "code",
   "execution_count": 10,
   "metadata": {},
   "outputs": [
    {
     "name": "stdout",
     "output_type": "stream",
     "text": [
      "Index(['number of numerical features: typeOfProperty',\n",
      "       'number of numerical features: epcScore',\n",
      "       'number of numerical features: numberOfBedrooms',\n",
      "       'number of numerical features: livableArea',\n",
      "       'number of numerical features: stateOfBuilding'],\n",
      "      dtype='object')\n",
      "number of categorical features:  Index(['province', 'postalCode'], dtype='object')\n"
     ]
    },
    {
     "data": {
      "text/plain": [
       "price                float64\n",
       "stateOfBuilding        int64\n",
       "epcScore               int64\n",
       "postalCode            string\n",
       "province              object\n",
       "typeOfProperty         int64\n",
       "numberOfBedrooms       int64\n",
       "livableArea          float64\n",
       "surfaceAreaOfPlot    float64\n",
       "dtype: object"
      ]
     },
     "execution_count": 10,
     "metadata": {},
     "output_type": "execute_result"
    }
   ],
   "source": [
    "label_col = 'price'\n",
    "cat_cols = bestdf [[\n",
    "    'province',\n",
    "    'postalCode',\n",
    "    #'energyHeatingType'\n",
    "]]\n",
    "\n",
    "num_cols = bestdf[[\n",
    "    'typeOfProperty',\n",
    "    'epcScore',\n",
    "    'numberOfBedrooms',\n",
    "    'livableArea',\n",
    "    'stateOfBuilding'\n",
    "]]\n",
    "\n",
    "print('number of numerical features: ' + (num_cols.columns))\n",
    "print('number of categorical features: ', + (cat_cols.columns))\n",
    "\n",
    "bestdf.dtypes"
   ]
  },
  {
   "cell_type": "code",
   "execution_count": 11,
   "metadata": {},
   "outputs": [],
   "source": [
    "#here choose for house or appt, besthousedf or bestapptdf\n",
    "\n",
    "y_col='price'\n",
    "y=besthousedf[y_col]\n",
    "X=(besthousedf[bestapptdf.columns.drop(y_col)]).reset_index(drop=True)"
   ]
  },
  {
   "cell_type": "code",
   "execution_count": 12,
   "metadata": {},
   "outputs": [],
   "source": [
    "enc=OneHotEncoder(handle_unknown='ignore', sparse=False)\n",
    "\n",
    "prov_encodeddf=pd.DataFrame(enc.fit_transform(X[['province']]), columns=enc.get_feature_names()).reset_index(drop=True)\n",
    "postal_encodeddf=pd.DataFrame(enc.fit_transform(X[['postalCode']]), columns=enc.get_feature_names()).reset_index(drop=True)\n",
    "\n",
    "encodedX=X[['stateOfBuilding', 'numberOfBedrooms', 'surfaceAreaOfPlot', 'livableArea']].join(prov_encodeddf)\n",
    "encodedX=encodedX.join(postal_encodeddf)\n",
    "X=encodedX\n"
   ]
  },
  {
   "cell_type": "code",
   "execution_count": 13,
   "metadata": {},
   "outputs": [],
   "source": [
    "X_train, X_test, y_train, y_test = train_test_split(X, y, test_size=0.2, random_state=42)"
   ]
  },
  {
   "cell_type": "code",
   "execution_count": 14,
   "metadata": {},
   "outputs": [],
   "source": [
    "from sklearn.preprocessing import StandardScaler, MinMaxScaler\n",
    "\n",
    "scaler = StandardScaler()\n",
    "\n",
    "X_train[['surfaceAreaOfPlot', 'livableArea']]=scaler.fit_transform(X_train[['surfaceAreaOfPlot', 'livableArea']])\n",
    "X_test[['surfaceAreaOfPlot', 'livableArea']]=scaler.fit_transform(X_test[['surfaceAreaOfPlot', 'livableArea']])\n"
   ]
  },
  {
   "cell_type": "code",
   "execution_count": 26,
   "metadata": {},
   "outputs": [
    {
     "name": "stdout",
     "output_type": "stream",
     "text": [
      "XGBRegressor(base_score=None, booster='gbtree', callbacks=None,\n",
      "             colsample_bylevel=None, colsample_bynode=None,\n",
      "             colsample_bytree=None, early_stopping_rounds=None,\n",
      "             enable_categorical=False, eval_metric=None, gamma=None,\n",
      "             gpu_id=None, grow_policy=None, importance_type=None,\n",
      "             interaction_constraints=None, learning_rate=0.1, max_bin=None,\n",
      "             max_cat_to_onehot=None, max_delta_step=None, max_depth=2,\n",
      "             max_leaves=None, min_child_weight=None, missing=nan,\n",
      "             monotone_constraints=None, n_estimators=1000, n_jobs=None,\n",
      "             num_parallel_tree=None, objective='reg:linear', predictor=None,\n",
      "             random_state=12, reg_alpha=None, ...)\n",
      "[13:26:36] WARNING: ../src/objective/regression_obj.cu:203: reg:linear is now deprecated in favor of reg:squarederror.\n",
      "R2 Value: 0.8479575376989233\n",
      "0.6957521847376384\n",
      "117624.16040789377\n"
     ]
    }
   ],
   "source": [
    "\n",
    "# Xtreme Gradient Boosting (XGBoost)\n",
    "from xgboost import XGBRegressor\n",
    "RegModel=XGBRegressor(max_depth=2, \n",
    "                      learning_rate=0.1, \n",
    "                      n_estimators=1000, \n",
    "                      objective='reg:linear', \n",
    "                      booster='gbtree',\n",
    "                      random_state=12)\n",
    "\n",
    "# Printing all the parameters of XGBoost\n",
    "print(RegModel)\n",
    "\n",
    "# Creating the model on Training Data\n",
    "XGB=RegModel.fit(X_train,y_train)\n",
    "prediction=XGB.predict(X_test)\n",
    "\n",
    "from sklearn import metrics\n",
    "# Measuring Goodness of fit in Training data\n",
    "print('R2 Value train:', metrics.r2_score(y_train, XGB.predict(X_train)))\n",
    "\n",
    "\n",
    "print('R2 test:', metrics.r2_score(y_test, prediction))\n",
    "print(metrics.mean_absolute_error(y_test,prediction))"
   ]
  }
 ],
 "metadata": {
  "kernelspec": {
   "display_name": "Python 3.8.10 64-bit",
   "language": "python",
   "name": "python3"
  },
  "language_info": {
   "codemirror_mode": {
    "name": "ipython",
    "version": 3
   },
   "file_extension": ".py",
   "mimetype": "text/x-python",
   "name": "python",
   "nbconvert_exporter": "python",
   "pygments_lexer": "ipython3",
   "version": "3.8.10"
  },
  "orig_nbformat": 4,
  "vscode": {
   "interpreter": {
    "hash": "31f2aee4e71d21fbe5cf8b01ff0e069b9275f58929596ceb00d14d90e3e16cd6"
   }
  }
 },
 "nbformat": 4,
 "nbformat_minor": 2
}
